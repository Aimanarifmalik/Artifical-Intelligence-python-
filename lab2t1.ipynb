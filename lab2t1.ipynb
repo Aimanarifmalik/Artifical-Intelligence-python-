{
 "cells": [
  {
   "cell_type": "code",
   "execution_count": 5,
   "metadata": {},
   "outputs": [
    {
     "name": "stdout",
     "output_type": "stream",
     "text": [
      "The alarm will sound. Sprinkler system will activate to put out fire\n"
     ]
    }
   ],
   "source": [
    "precept=[\"yes\",\"no\",\"30\"]\n",
    "state=[\"There is smoke\",\"There is no smoke\",\"temperature is low\",\"temperature is high\"]\n",
    "rule=[\"The alarm will sound. Sprinkler system will activate to put out fire\", \"System remains in its normal state\", \"For high temperature, fire department will be called\"]\n",
    "\n",
    "def smokedetection(rule_value):\n",
    "    smoke = input(\"Did you detect any kind of smoke in the building? (yes/no): \")\n",
    "    if smoke.lower() == precept[0] and state[0] in state:\n",
    "        print(rule_value[0])\n",
    "    elif smoke.lower() == precept[1]:\n",
    "        print(rule_value[1])\n",
    "\n",
    "# Call the function\n",
    "smokedetection(rule)\n",
    "\n",
    "def tempdetection(rule_value):\n",
    "    temp = int(input(\"Enter the temperature reading: \"))\n",
    "    if temp > int(precept[2]):\n",
    "        print(rule_value[2])\n",
    "\n",
    "# Call the function\n",
    "tempdetection(rule)\n",
    "\n",
    "def normal_state(rule_value):\n",
    "    print(rule_value[1])\n",
    "\n",
    "# Call the function for the case when neither smoke nor high temperature are detected\n",
    "normal_state(rule)"
   ]
  }
 ],
 "metadata": {
  "kernelspec": {
   "display_name": "Python 3",
   "language": "python",
   "name": "python3"
  },
  "language_info": {
   "codemirror_mode": {
    "name": "ipython",
    "version": 3
   },
   "file_extension": ".py",
   "mimetype": "text/x-python",
   "name": "python",
   "nbconvert_exporter": "python",
   "pygments_lexer": "ipython3",
   "version": "3.12.1"
  }
 },
 "nbformat": 4,
 "nbformat_minor": 2
}
