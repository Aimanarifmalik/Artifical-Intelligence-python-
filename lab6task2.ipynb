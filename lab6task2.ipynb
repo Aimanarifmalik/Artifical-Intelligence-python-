{
 "cells": [
  {
   "cell_type": "code",
   "execution_count": null,
   "metadata": {},
   "outputs": [],
   "source": [
    "def word_frequency(sentence):\n",
    "    word_freq = {}\n",
    "\n",
    "    words = sentence.split()\n",
    "\n",
    "    for word in words:\n",
    "        cleaned_word = word.strip('!.,?()').lower()\n",
    "\n",
    "        if cleaned_word in word_freq:\n",
    "            word_freq[cleaned_word] += 1\n",
    "        else:\n",
    "            word_freq[cleaned_word] = 1\n",
    "\n",
    "    return word_freq\n",
    "\n",
    "input_sentence = \"Hello world! This is a simple world.\"\n",
    "result = word_frequency(input_sentence)\n",
    "print(result)\n"
   ]
  }
 ],
 "metadata": {
  "kernelspec": {
   "display_name": "Python 3",
   "language": "python",
   "name": "python3"
  },
  "language_info": {
   "name": "python",
   "version": "3.11.4"
  },
  "orig_nbformat": 4
 },
 "nbformat": 4,
 "nbformat_minor": 2
}
