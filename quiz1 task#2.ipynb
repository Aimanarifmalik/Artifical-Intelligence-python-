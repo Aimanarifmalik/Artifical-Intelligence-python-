{
 "cells": [
  {
   "cell_type": "code",
   "execution_count": 3,
   "metadata": {},
   "outputs": [
    {
     "ename": "IndentationError",
     "evalue": "unexpected indent (1405826465.py, line 8)",
     "output_type": "error",
     "traceback": [
      "\u001b[1;36m  Cell \u001b[1;32mIn[3], line 8\u001b[1;36m\u001b[0m\n\u001b[1;33m    print(\"Welcome to the Number Guessing Game!\")\u001b[0m\n\u001b[1;37m    ^\u001b[0m\n\u001b[1;31mIndentationError\u001b[0m\u001b[1;31m:\u001b[0m unexpected indent\n"
     ]
    }
   ],
   "source": [
    "import random\n",
    "\n",
    "def number_game():\n",
    "  \n",
    "    hidden_number = random.randint(1, 100)\n",
    "    max_attempts = 10\n",
    "    attempts=0\n",
    "     print(\"Welcome to the Number Guessing Game!\")\n",
    "    for attempts in range(1, max_attempts+1):\n",
    "       \n",
    "            guessed_number = int(userinput(\"Enter your guess: \"))\n",
    "\n",
    "            if guessed_number<hidden_number:\n",
    "                print(\"Your guess is too low! Try again.\")\n",
    "            elif guessed_number>hidden_number:\n",
    "                print(\"Your guess is too high! Try again.\")\n",
    "            elif:\n",
    "                print(f\"Congratulations! You guessed the number {hidden_number} in {attempts} attempts.\")\n",
    "                break \n",
    "            else:\n",
    "             print(\"Sorry, you've reached the maximum number of attempts. The secret number was {hidden_number}.\")\n",
    "\n",
    "int main()\n",
    "\n",
    "    number_game()\n",
    "\n"
   ]
  }
 ],
 "metadata": {
  "kernelspec": {
   "display_name": "Python 3",
   "language": "python",
   "name": "python3"
  },
  "language_info": {
   "codemirror_mode": {
    "name": "ipython",
    "version": 3
   },
   "file_extension": ".py",
   "mimetype": "text/x-python",
   "name": "python",
   "nbconvert_exporter": "python",
   "pygments_lexer": "ipython3",
   "version": "3.11.4"
  },
  "orig_nbformat": 4
 },
 "nbformat": 4,
 "nbformat_minor": 2
}
