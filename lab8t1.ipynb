{
 "cells": [
  {
   "cell_type": "code",
   "execution_count": null,
   "metadata": {},
   "outputs": [],
   "source": [
    "from sklearn.cluster import KMeans\n",
    "import pandas as pd\n",
    "import numpy as np\n",
    "from sklearn.preprocessing import StandardScaler, MinMaxScaler\n",
    "import matplotlib.pyplot as plt\n",
    "data=pd.read_csv(\"Mall_Customers.csv\")\n",
    "data.isnull().sum()\n",
    "data['Gender']=data['Gender'].map({'Male':0,'Female':1})\n",
    "# data.head()\n",
    "Customerid=data[\"CustomerID\"]\n",
    "data.drop(columns=['CustomerID'], inplace=True)\n",
    "# print(data)\n",
    "scaler = StandardScaler()\n",
    "data= scaler.fit_transform(data)\n",
    "kmeans=KMeans(n_clusters =3,n_init=10)\n",
    "kmeans.fit(data)\n",
    "\n",
    "# Getting the centroids of the clusters\n",
    "centroids = kmeans.cluster_centers_\n",
    "print(\"Centroids:\")\n",
    "print(centroids)\n",
    "\n",
    "# Getting the labels assigned to each data point\n",
    "labels = kmeans.labels_\n",
    "print(\"\\nLabels:\")\n",
    "print(labels)\n",
    "plt.scatter(Customerid,labels,c=labels,cmap=\"rainbow\")\n",
    "plt.xlabel(\"Customer ID\")\n",
    "plt.ylabel(\"Clusters\")\n",
    "plt.title(\"Customer Segmentation\")\n",
    "plt.plot()"
   ]
  }
 ],
 "metadata": {
  "language_info": {
   "name": "python"
  }
 },
 "nbformat": 4,
 "nbformat_minor": 2
}
